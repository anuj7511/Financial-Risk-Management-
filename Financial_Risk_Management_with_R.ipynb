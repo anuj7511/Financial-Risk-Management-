{
 "cells": [
  {
   "cell_type": "markdown",
   "id": "2a6efe73",
   "metadata": {},
   "source": [
    "# Financial Risk Forecasting using GARCH-t(1,1) model "
   ]
  },
  {
   "cell_type": "code",
   "execution_count": 1,
   "id": "1fd892d6",
   "metadata": {},
   "outputs": [
    {
     "name": "stderr",
     "output_type": "stream",
     "text": [
      "Loading required package: xts\n",
      "\n",
      "Loading required package: zoo\n",
      "\n",
      "\n",
      "Attaching package: 'zoo'\n",
      "\n",
      "\n",
      "The following objects are masked from 'package:base':\n",
      "\n",
      "    as.Date, as.Date.numeric\n",
      "\n",
      "\n",
      "Loading required package: TTR\n",
      "\n",
      "Registered S3 method overwritten by 'quantmod':\n",
      "  method            from\n",
      "  as.zoo.data.frame zoo \n",
      "\n",
      "\n",
      "Attaching package: 'metRology'\n",
      "\n",
      "\n",
      "The following objects are masked from 'package:base':\n",
      "\n",
      "    cbind, rbind\n",
      "\n",
      "\n",
      "Loading required package: parallel\n",
      "\n",
      "\n",
      "Attaching package: 'rugarch'\n",
      "\n",
      "\n",
      "The following object is masked from 'package:stats':\n",
      "\n",
      "    sigma\n",
      "\n",
      "\n",
      "\n",
      "Attaching package: 'data.table'\n",
      "\n",
      "\n",
      "The following objects are masked from 'package:xts':\n",
      "\n",
      "    first, last\n",
      "\n",
      "\n",
      "\n",
      "Attaching package: 'lubridate'\n",
      "\n",
      "\n",
      "The following objects are masked from 'package:data.table':\n",
      "\n",
      "    hour, isoweek, mday, minute, month, quarter, second, wday, week,\n",
      "    yday, year\n",
      "\n",
      "\n",
      "The following objects are masked from 'package:base':\n",
      "\n",
      "    date, intersect, setdiff, union\n",
      "\n",
      "\n"
     ]
    }
   ],
   "source": [
    "#install.packages(c(\"quantmod\",\"moments\",\"MASS\",\"metRology\",\"rugarch\",\"data.table\",\"lubridate\",\"ggplot2\"))\n",
    "# I have these libraries already pre-installed on my PC, so no need to install them again. They can be installed using the above command.\n",
    "\n",
    "# Loading the libraries into the R environment\n",
    "library(quantmod)\n",
    "library(moments)\n",
    "library(MASS)\n",
    "library(metRology)\n",
    "library(rugarch)\n",
    "library(data.table)\n",
    "library(lubridate)\n",
    "library(ggplot2)"
   ]
  },
  {
   "cell_type": "code",
   "execution_count": 2,
   "id": "8df3f969",
   "metadata": {},
   "outputs": [
    {
     "name": "stderr",
     "output_type": "stream",
     "text": [
      "Warning message:\n",
      "\"^NSEI contains missing values. Some functions will not work if objects contain missing values in the middle of the series. Consider using na.omit(), na.approx(), na.fill(), etc to remove or replace them.\"\n"
     ]
    }
   ],
   "source": [
    "#Extracting the NIFTY50 Index data from \"Yahoo Finance\"\n",
    "NSE<-getSymbols(\"^NSEI\",src=\"yahoo\",auto.assign=FALSE)\n",
    "NSE <- NSE[\"2011-01-01/2021-12-31\"]\n",
    "\n",
    "#Keeping only the Adjusted CLose Price Column for Returns Calculation\n",
    "NSE<-NSE$NSEI.Adjusted\n",
    "\n",
    "NSE<-na.omit(NSE)\n",
    "names(NSE)<-\"Adjusted Close Price\"\n"
   ]
  },
  {
   "cell_type": "code",
   "execution_count": 3,
   "id": "8e9e0b7c",
   "metadata": {},
   "outputs": [],
   "source": [
    "#Calculating Log Daily Returns\n",
    "logret<-diff(log(NSE))[-1]\n",
    "names(logret)<-\"Returns\"\n",
    "\n",
    "#Calculating Discrete Daily Returns\n",
    "ret<-exp(logret)-1\n",
    "names(ret)<-\"Returns\""
   ]
  },
  {
   "cell_type": "code",
   "execution_count": 4,
   "id": "a23dfcc5",
   "metadata": {},
   "outputs": [
    {
     "data": {
      "text/plain": [
       "             Returns\n",
       "2011-01-04 -0.001829\n",
       "2011-01-05 -0.010887"
      ]
     },
     "metadata": {},
     "output_type": "display_data"
    },
    {
     "data": {
      "text/plain": [
       "             Returns\n",
       "2011-01-04 -0.001827\n",
       "2011-01-05 -0.010828"
      ]
     },
     "metadata": {},
     "output_type": "display_data"
    }
   ],
   "source": [
    "round(head(logret,2),6)\n",
    "round(head(ret,2),6)"
   ]
  },
  {
   "cell_type": "code",
   "execution_count": 5,
   "id": "95b8e353",
   "metadata": {},
   "outputs": [
    {
     "data": {
      "text/plain": [
       "             Returns\n",
       "2011-01-07 -0.041955\n",
       "2011-01-14 -0.043271"
      ]
     },
     "metadata": {},
     "output_type": "display_data"
    }
   ],
   "source": [
    "#So, we can observe that there is very minute difference between log-returns and actual returns for small returns.\n",
    "\n",
    "#we can use apply.weekly, apply.monthly, apply.quarterly, apply.yearly functions to calculate log weekly,monthly, \n",
    "#quarterly and yearly returns respectively.\n",
    "\n",
    "logret.w<-apply.weekly(logret,sum)\n",
    "round(head(logret.w,2),6)"
   ]
  },
  {
   "cell_type": "code",
   "execution_count": 6,
   "id": "f8802ce3",
   "metadata": {},
   "outputs": [
    {
     "data": {
      "text/plain": [
       "             Returns\n",
       "2011-01-07 -0.041087\n",
       "2011-01-14 -0.042348"
      ]
     },
     "metadata": {},
     "output_type": "display_data"
    }
   ],
   "source": [
    "ret.w <- exp(logret.w)-1\n",
    "round(head(ret.w,2),6)"
   ]
  },
  {
   "cell_type": "code",
   "execution_count": 7,
   "id": "d9a6bce8",
   "metadata": {},
   "outputs": [],
   "source": [
    "logret.m<-apply.weekly(logret,sum)\n",
    "ret.m<-exp(logret.m)-1\n",
    "logret.q<-apply.quarterly(logret,sum)\n",
    "ret.q<-exp(logret.q)-1\n",
    "logret.y<-apply.yearly(logret,sum)\n",
    "ret.y<-exp(logret.y)-1"
   ]
  },
  {
   "cell_type": "code",
   "execution_count": 8,
   "id": "9ed8c667",
   "metadata": {},
   "outputs": [
    {
     "data": {
      "text/html": [
       "0.000385181727285472"
      ],
      "text/latex": [
       "0.000385181727285472"
      ],
      "text/markdown": [
       "0.000385181727285472"
      ],
      "text/plain": [
       "[1] 0.0003851817"
      ]
     },
     "metadata": {},
     "output_type": "display_data"
    },
    {
     "data": {
      "text/html": [
       "0.0110695995061713"
      ],
      "text/latex": [
       "0.0110695995061713"
      ],
      "text/markdown": [
       "0.0110695995061713"
      ],
      "text/plain": [
       "[1] 0.0110696"
      ]
     },
     "metadata": {},
     "output_type": "display_data"
    }
   ],
   "source": [
    "mu<-mean(logret)\n",
    "sig<-sd(logret)\n",
    "\n",
    "mu\n",
    "sig"
   ]
  },
  {
   "cell_type": "code",
   "execution_count": 9,
   "id": "efa98806",
   "metadata": {},
   "outputs": [],
   "source": [
    "rvec<-as.vector(logret)\n",
    "\n",
    "#Estimating VaR and ES at 95% Confidence Level using Normal Distribution\n",
    "VaR1<-qnorm(0.05,mu,sig)\n",
    "ES1<-mu-sig*dnorm(qnorm(0.05,0,1),0,1)/0.05"
   ]
  },
  {
   "cell_type": "code",
   "execution_count": 10,
   "id": "fdbbf0f3",
   "metadata": {},
   "outputs": [
    {
     "name": "stdout",
     "output_type": "stream",
     "text": [
      "At 95% Confidence Interval\n",
      "VaR: -0.017823 \n",
      "ES: -0.022448"
     ]
    }
   ],
   "source": [
    "cat(\"At 95% Confidence Interval\\n\") \n",
    "cat(\"VaR:\", round(VaR1,6), \"\\n\", sep = \" \")\n",
    "cat(\"ES:\", round(ES1,6), sep=\" \")"
   ]
  },
  {
   "cell_type": "code",
   "execution_count": 11,
   "id": "8152353b",
   "metadata": {},
   "outputs": [
    {
     "name": "stdout",
     "output_type": "stream",
     "text": [
      "At 95% Confidence Interval\n",
      "VaR: -0.017843 \n",
      "ES: -0.022479"
     ]
    }
   ],
   "source": [
    "#Using rnorm function to generate a random sample for Simulation from Normal distribution with the above calculated \n",
    "#mean and Standard Deviation\n",
    "\n",
    "rvec2<-rnorm(100000,mu,sig)\n",
    "alpha<-0.05\n",
    "VaR2<-quantile(rvec2,alpha)\n",
    "ES2<-mean(rvec2[rvec2<VaR2])\n",
    "\n",
    "cat(\"At 95% Confidence Interval\\n\") \n",
    "cat(\"VaR:\", round(VaR2,6), \"\\n\", sep = \" \")\n",
    "cat(\"ES:\", round(ES2,6), sep=\" \")"
   ]
  },
  {
   "cell_type": "code",
   "execution_count": 12,
   "id": "0009cfa0",
   "metadata": {},
   "outputs": [
    {
     "name": "stderr",
     "output_type": "stream",
     "text": [
      "Warning message in RNGkind(sample.kind = \"Rounding\"):\n",
      "\"non-uniform 'Rounding' sampler used\"\n"
     ]
    },
    {
     "name": "stdout",
     "output_type": "stream",
     "text": [
      "At 95% Confidence Interval\n",
      "VaR: -0.016798 \n",
      "ES: -0.025429"
     ]
    }
   ],
   "source": [
    "#Using raw log returns data for Simulation\n",
    "RNGkind(sample.kind=\"Rounding\")\n",
    "set.seed(123789)\n",
    "rvec3<-sample(rvec,100000,replace=TRUE)\n",
    "VaR3<-quantile(rvec3,alpha)\n",
    "ES3<-mean(rvec3[rvec3<VaR3])\n",
    "\n",
    "cat(\"At 95% Confidence Interval\\n\") \n",
    "cat(\"VaR:\", round(VaR3,6), \"\\n\", sep = \" \")\n",
    "cat(\"ES:\", round(ES3,6), sep=\" \")"
   ]
  },
  {
   "cell_type": "code",
   "execution_count": 13,
   "id": "7f21e202",
   "metadata": {},
   "outputs": [
    {
     "name": "stdout",
     "output_type": "stream",
     "text": [
      "Skewness: -1.004661 \n",
      "Kurtosis: 17.96413"
     ]
    },
    {
     "data": {
      "text/plain": [
       "\n",
       "\tJarque-Bera Normality Test\n",
       "\n",
       "data:  rvec\n",
       "JB = 25551, p-value < 2.2e-16\n",
       "alternative hypothesis: greater\n"
      ]
     },
     "metadata": {},
     "output_type": "display_data"
    }
   ],
   "source": [
    "#Calculating the skewness and kurtosis from moments library of the log return data to check whether the Normal \n",
    "#distribution is a perfect fit for the data.\n",
    "\n",
    "cat(\"Skewness:\", skewness(rvec), \"\\n\", sep=\" \")\n",
    "cat(\"Kurtosis:\", kurtosis(rvec), sep=\" \")\n",
    "\n",
    "#Performing the Jarque Bera Normality test to check whether Normal Distribution is a good approximation for modeling the data.\n",
    "jarque.test(rvec)"
   ]
  },
  {
   "cell_type": "code",
   "execution_count": 14,
   "id": "37c78312",
   "metadata": {},
   "outputs": [
    {
     "name": "stderr",
     "output_type": "stream",
     "text": [
      "Warning message in RNGkind(sample.kind = \"Rounding\"):\n",
      "\"non-uniform 'Rounding' sampler used\"\n"
     ]
    },
    {
     "name": "stdout",
     "output_type": "stream",
     "text": [
      "At 95% Confidence Interval\n",
      "VaR: -0.015628 \n",
      "ES: -0.023165"
     ]
    }
   ],
   "source": [
    "# Since the skewness is negative which means the data is left skewed, as well as the kurtosis is also very big whereas the \n",
    "# skewness for normal distribution is 0 and the coefficient of kurtosis is 3 and the JB value is also quite big,which shows that \n",
    "# the Normal Distribution is not a perfect fit for the data.\n",
    "\n",
    "# We know that standard normal distribution is a specific case of Student-T Distribution when the degree of freedoms becomes \n",
    "# infinite. So, instead of using the Normal Distribution, using rescaled Student-T Distribution which can manage leptokurtosis \n",
    "# because of adjustable degrees of freedom parameter.\n",
    "\n",
    "#Use of metRology librray here to estimate the parameters using Lielihood function while fitting our data into a specified distribution\n",
    "t.fit<-fitdistr(rvec,\"t\",start=list(m=mean(rvec), s=sd(rvec), df= 4 + 6/(kurtosis(rvec)-3)), lower=c(-1,0.001,3))\n",
    "\n",
    "\n",
    "#Making rescaled Student-T Distribution using meTrology package\n",
    "RNGkind(sample.kind=\"Rounding\")\n",
    "set.seed(123789)\n",
    "\n",
    "rvec4<-rt.scaled(100000,mean=t.fit$estimate[1],sd=t.fit$estimate[2],df=t.fit$estimate[3])\n",
    "VaR4<-unname(quantile(rvec4,alpha))\n",
    "ES4<-mean(rvec4[rvec4<VaR4])\n",
    "\n",
    "cat(\"At 95% Confidence Interval\\n\") \n",
    "cat(\"VaR:\", round(VaR4,6), \"\\n\", sep = \" \")\n",
    "cat(\"ES:\", round(ES4,6), sep=\" \")"
   ]
  },
  {
   "cell_type": "code",
   "execution_count": 15,
   "id": "43fd9c5c",
   "metadata": {},
   "outputs": [
    {
     "name": "stdout",
     "output_type": "stream",
     "text": [
      "At 95% Confidence Interval\n",
      "VaR: -0.048168 \n",
      "ES: -0.064927"
     ]
    }
   ],
   "source": [
    "#Calculating 10 lays horizon VaR and ES using simulation from raw log returns data as well as rescaled t-distribution\n",
    "\n",
    "rvec5<-rep(0,100000)\n",
    "for(i in 1:10) {\n",
    "  rvec5<-rvec5+rt.scaled(100000,mean=t.fit$estimate[1],sd=t.fit$estimate[2],df=t.fit$estimate[3])\n",
    "}\n",
    "\n",
    "VaR5<-unname(quantile(rvec5,alpha))\n",
    "ES5<-mean(rvec5[rvec5<VaR5])\n",
    "\n",
    "cat(\"At 95% Confidence Interval\\n\") \n",
    "cat(\"VaR:\", round(VaR5,6), \"\\n\", sep = \" \")\n",
    "cat(\"ES:\", round(ES5,6), sep=\" \")"
   ]
  },
  {
   "cell_type": "code",
   "execution_count": 16,
   "id": "5be18b65",
   "metadata": {},
   "outputs": [
    {
     "name": "stderr",
     "output_type": "stream",
     "text": [
      "Warning message in RNGkind(sample.kind = \"Rounding\"):\n",
      "\"non-uniform 'Rounding' sampler used\"\n"
     ]
    },
    {
     "name": "stdout",
     "output_type": "stream",
     "text": [
      "At 95% Confidence Interval\n",
      "VaR: -0.052941 \n",
      "ES: -0.075943"
     ]
    }
   ],
   "source": [
    "rvec6<-rep(0,100000)\n",
    "RNGkind(sample.kind=\"Rounding\")\n",
    "set.seed(123789)\n",
    "for( i in 1:10){\n",
    "  rvec6<-rvec6 + sample(as.vector(logret),100000,replace=TRUE)\n",
    "}\n",
    "VaR6<-unname(quantile(rvec6,alpha))\n",
    "ES6<-mean(rvec6[rvec6<VaR6])\n",
    "\n",
    "cat(\"At 95% Confidence Interval\\n\") \n",
    "cat(\"VaR:\", round(VaR6,6), \"\\n\", sep = \" \")\n",
    "cat(\"ES:\", round(ES6,6), sep=\" \")"
   ]
  },
  {
   "cell_type": "code",
   "execution_count": 17,
   "id": "1087f7ca",
   "metadata": {},
   "outputs": [
    {
     "name": "stdout",
     "output_type": "stream",
     "text": [
      "At 95% Confidence Interval\n",
      "VaR: -0.052379 \n",
      "ES: -0.083045"
     ]
    }
   ],
   "source": [
    "rvec7<-rep(0,100000)\n",
    "posn<-seq(from=1,to=length(rvec)-9,by=1)\n",
    "rpos<-sample(posn,100000,replace=TRUE)\n",
    "for( i in 1:10) {\n",
    "  rvec7<-rvec7 + rvec[rpos]\n",
    "  rpos<-rpos+1\n",
    "}\n",
    "\n",
    "VaR7<-unname(quantile(rvec7,alpha))\n",
    "ES7<-mean(rvec7[rvec7<VaR7])\n",
    "\n",
    "cat(\"At 95% Confidence Interval\\n\") \n",
    "cat(\"VaR:\", round(VaR7,6), \"\\n\", sep = \" \")\n",
    "cat(\"ES:\", round(ES7,6), sep=\" \")"
   ]
  },
  {
   "cell_type": "code",
   "execution_count": 18,
   "id": "b64f05f2",
   "metadata": {},
   "outputs": [
    {
     "data": {
      "image/png": "[encoded data removed]",
      "text/plain": [
       "Plot with title \"Series  logret\""
      ]
     },
     "metadata": {
      "image/png": {
       "height": 420,
       "width": 420
      }
     },
     "output_type": "display_data"
    }
   ],
   "source": [
    "#Using the acf function to look for auto-correlation coefficient at different lags in the Time-Series data\n",
    "acf(logret)\n"
   ]
  },
  {
   "cell_type": "code",
   "execution_count": 19,
   "id": "acc87c51",
   "metadata": {},
   "outputs": [
    {
     "data": {
      "image/png": "[encoded data removed]",
      "text/plain": [
       "Plot with title \"Series  abs(logret)\""
      ]
     },
     "metadata": {
      "image/png": {
       "height": 420,
       "width": 420
      }
     },
     "output_type": "display_data"
    }
   ],
   "source": [
    "#Coming to the concept of Volatility Clustering,\n",
    "#Volatility bursts are a type of absolute autocorrelation.\n",
    "#So, it makes sense to look for auto correlation in absolute log returns data.\n",
    "acf(abs(logret))"
   ]
  },
  {
   "cell_type": "code",
   "execution_count": 20,
   "id": "1ef68dd3",
   "metadata": {},
   "outputs": [
    {
     "data": {
      "text/html": [
       "<style>\n",
       ".dl-inline {width: auto; margin:0; padding: 0}\n",
       ".dl-inline>dt, .dl-inline>dd {float: none; width: auto; display: inline-block}\n",
       ".dl-inline>dt::after {content: \":\\0020\"; padding-right: .5ex}\n",
       ".dl-inline>dt:not(:first-of-type) {padding-left: .5ex}\n",
       "</style><dl class=dl-inline><dt>mu</dt><dd>0.000739</dd><dt>omega</dt><dd>2e-06</dd><dt>alpha1</dt><dd>0.070533</dd><dt>beta1</dt><dd>0.912189</dd><dt>shape</dt><dd>7.532304</dd></dl>\n"
      ],
      "text/latex": [
       "\\begin{description*}\n",
       "\\item[mu] 0.000739\n",
       "\\item[omega] 2e-06\n",
       "\\item[alpha1] 0.070533\n",
       "\\item[beta1] 0.912189\n",
       "\\item[shape] 7.532304\n",
       "\\end{description*}\n"
      ],
      "text/markdown": [
       "mu\n",
       ":   0.000739omega\n",
       ":   2e-06alpha1\n",
       ":   0.070533beta1\n",
       ":   0.912189shape\n",
       ":   7.532304\n",
       "\n"
      ],
      "text/plain": [
       "      mu    omega   alpha1    beta1    shape \n",
       "0.000739 0.000002 0.070533 0.912189 7.532304 "
      ]
     },
     "metadata": {},
     "output_type": "display_data"
    }
   ],
   "source": [
    "#Here, we can observe that the correlation coefficients are significant which implies that there can be significant \n",
    "#amount of Volatility Clustering in our data. Consequently, to deal with such circumstances, GARCH models are used in \n",
    "#practice in Risk Management which account for \"Volatility Clustering\".\n",
    "\n",
    "library(rugarch)\n",
    "#Fitting the Specifications we want in our GARCH model in uspec such as distribution model as Student-T Distribution,etc. Basically, we are using GARCH-(1,1)-t Model here.\n",
    "uspec <-ugarchspec(variance.model = list(model=\"sGARCH\",garchOrder =c(1,1)),\n",
    "                   mean.model = list(armaOrder=c(0,0),include.mean=TRUE),\n",
    "                   distribution.model = \"std\")\n",
    "\n",
    "garch.fit<-ugarchfit(uspec,data=rvec)\n",
    "\n",
    "round(garch.fit@fit$coef,6)"
   ]
  },
  {
   "cell_type": "code",
   "execution_count": 21,
   "id": "40c76640",
   "metadata": {},
   "outputs": [
    {
     "data": {
      "image/png": "[encoded data removed]",
      "text/plain": [
       "Plot with title \"Series  garch.fit@fit$z\""
      ]
     },
     "metadata": {
      "image/png": {
       "height": 420,
       "width": 420
      }
     },
     "output_type": "display_data"
    },
    {
     "data": {
      "image/png": "[encoded data removed]",
      "text/plain": [
       "Plot with title \"Series  abs(garch.fit@fit$z)\""
      ]
     },
     "metadata": {
      "image/png": {
       "height": 420,
       "width": 420
      }
     },
     "output_type": "display_data"
    }
   ],
   "source": [
    "acf(garch.fit@fit$z)\n",
    "acf(abs(garch.fit@fit$z))\n"
   ]
  },
  {
   "cell_type": "code",
   "execution_count": 22,
   "id": "8b1a664a",
   "metadata": {},
   "outputs": [
    {
     "name": "stderr",
     "output_type": "stream",
     "text": [
      "Warning message in RNGkind(sample.kind = \"Rounding\"):\n",
      "\"non-uniform 'Rounding' sampler used\"\n"
     ]
    },
    {
     "name": "stdout",
     "output_type": "stream",
     "text": [
      "At 95% Confidence Interval\n",
      "VaR: -0.015536 \n",
      "ES: -0.021657"
     ]
    }
   ],
   "source": [
    "#Using ugarchboot function for Simulation of 100000 outcomes to calculate for VaR and ES.\n",
    "RNGkind(sample.kind = \"Rounding\")\n",
    "set.seed(123789)\n",
    "boot.garch = ugarchboot(garch.fit,\n",
    "                        method =\"Partial\",\n",
    "                        sampling=\"raw\",\n",
    "                        n.ahead=1,\n",
    "                        n.bootpred=100000,\n",
    "                        solver=\"solnp\"\n",
    ")\n",
    "\n",
    "rvec8<-boot.garch@fseries\n",
    "VaR8<-unname(quantile(rvec8,alpha))\n",
    "ES8<-mean(rvec8[rvec8<VaR8])\n",
    "\n",
    "cat(\"At 95% Confidence Interval\\n\") \n",
    "cat(\"VaR:\", round(VaR8,6), \"\\n\", sep = \" \")\n",
    "cat(\"ES:\", round(ES8,6), sep=\" \")"
   ]
  },
  {
   "cell_type": "code",
   "execution_count": 23,
   "id": "35d18247",
   "metadata": {},
   "outputs": [
    {
     "data": {
      "text/html": [
       "-0.015416"
      ],
      "text/latex": [
       "-0.015416"
      ],
      "text/markdown": [
       "-0.015416"
      ],
      "text/plain": [
       "[1] -0.015416"
      ]
     },
     "metadata": {},
     "output_type": "display_data"
    }
   ],
   "source": [
    "#Calculating Discrete returns from VaR\n",
    "round((exp(VaR8)-1),6)\n",
    "\n",
    "# Let us assume an investor invests Rs.10,00,000 in NIFTY50 Index, so according to historical GARCH predicted \n",
    "#VaR, the maximum amount that the investor can lose on the next trading session within 95% Confidence Level \n",
    "#= 10,00,000 * -0.015416 = 15,416/-Rs."
   ]
  },
  {
   "cell_type": "markdown",
   "id": "ec345c23",
   "metadata": {},
   "source": [
    "# Calculating rolling 95% confidence interval VaR for NIFTY50 Index for 2021"
   ]
  },
  {
   "cell_type": "code",
   "execution_count": 24,
   "id": "8d2fe319",
   "metadata": {},
   "outputs": [
    {
     "data": {
      "text/html": [
       "<table class=\"dataframe\">\n",
       "<caption>A data.table: 3 × 3</caption>\n",
       "<thead>\n",
       "\t<tr><th scope=col>date</th><th scope=col>alpha(5%)</th><th scope=col>realized</th></tr>\n",
       "\t<tr><th scope=col>&lt;date&gt;</th><th scope=col>&lt;dbl&gt;</th><th scope=col>&lt;dbl&gt;</th></tr>\n",
       "</thead>\n",
       "<tbody>\n",
       "\t<tr><td>2021-01-01</td><td>-0.01502027</td><td>0.002624978</td></tr>\n",
       "\t<tr><td>2021-01-04</td><td>-0.01450270</td><td>0.008127555</td></tr>\n",
       "\t<tr><td>2021-01-05</td><td>-0.01432493</td><td>0.004701312</td></tr>\n",
       "</tbody>\n",
       "</table>\n"
      ],
      "text/latex": [
       "A data.table: 3 × 3\n",
       "\\begin{tabular}{lll}\n",
       " date & alpha(5\\%) & realized\\\\\n",
       " <date> & <dbl> & <dbl>\\\\\n",
       "\\hline\n",
       "\t 2021-01-01 & -0.01502027 & 0.002624978\\\\\n",
       "\t 2021-01-04 & -0.01450270 & 0.008127555\\\\\n",
       "\t 2021-01-05 & -0.01432493 & 0.004701312\\\\\n",
       "\\end{tabular}\n"
      ],
      "text/markdown": [
       "\n",
       "A data.table: 3 × 3\n",
       "\n",
       "| date &lt;date&gt; | alpha(5%) &lt;dbl&gt; | realized &lt;dbl&gt; |\n",
       "|---|---|---|\n",
       "| 2021-01-01 | -0.01502027 | 0.002624978 |\n",
       "| 2021-01-04 | -0.01450270 | 0.008127555 |\n",
       "| 2021-01-05 | -0.01432493 | 0.004701312 |\n",
       "\n"
      ],
      "text/plain": [
       "  date       alpha(5%)   realized   \n",
       "1 2021-01-01 -0.01502027 0.002624978\n",
       "2 2021-01-04 -0.01450270 0.008127555\n",
       "3 2021-01-05 -0.01432493 0.004701312"
      ]
     },
     "metadata": {},
     "output_type": "display_data"
    }
   ],
   "source": [
    "#Preparing VaR data from 2021-01-01 upto 2021-12-31 using Ugarchroll function:-\n",
    "n2020<-length(logret[\"2007-09-18/2020-12-31\"])\n",
    "roll.garch<-ugarchroll(spec=uspec,\n",
    "                       data=logret,\n",
    "                       n.ahead=1,\n",
    "                       forecast.length=1,\n",
    "                       n.start=n2020,\n",
    "                       refit.every=1,\n",
    "                       refit.window=\"recursive\",\n",
    "                       calculate.VaR = TRUE,\n",
    "                       VaR.alpha=0.05,\n",
    "                       keep.coef=TRUE)\n",
    "\n",
    "\n",
    "NIFTY2021_VaR95 <- roll.garch@forecast$VaR\n",
    "date <- row.names.data.frame(roll.garch@forecast$VaR)\n",
    "\n",
    "NIFTY2021_VaR95 <- as.data.table(cbind(date,NIFTY2021_VaR95))\n",
    "NIFTY2021_VaR95[,date:=lubridate::ymd(date)]\n",
    "head(NIFTY2021_VaR95,3)"
   ]
  },
  {
   "cell_type": "code",
   "execution_count": 25,
   "id": "dc4e9caf",
   "metadata": {},
   "outputs": [
    {
     "data": {
      "image/png": "[encoded data removed]",
      "text/plain": [
       "plot without title"
      ]
     },
     "metadata": {
      "image/png": {
       "height": 420,
       "width": 420
      }
     },
     "output_type": "display_data"
    }
   ],
   "source": [
    "# Plotting Predicted VaR at 95% Confidence Level and Realized Log Returns Data from \"2021-01-01\" to \"2021-12-31\". \n",
    "ggplot(NIFTY2021_VaR95,aes(x=date)) +\n",
    "  geom_col(aes(y=realized), fill = \"cyan\", color=\"#06992b\") +\n",
    "  geom_line(aes(y=`alpha(5%)`), col=\"red\", size = 2) +\n",
    "  labs(title= \"VaR at 95% Confidence Level on investing in NIFTY50 Index using GARCH-t(1,1)\",\n",
    "       x=\"Months\",y=\"Log Returns\") +\n",
    "  theme_bw()"
   ]
  },
  {
   "cell_type": "code",
   "execution_count": 26,
   "id": "445910b1",
   "metadata": {},
   "outputs": [
    {
     "name": "stdout",
     "output_type": "stream",
     "text": [
      "Total Number of NIFTY50 Trading days in year 2021: 248 \n",
      "Number of trading days on which the actual losses breached the 95% confidence bar: 13 \n",
      "Accuracy of Model: 94.75806%"
     ]
    }
   ],
   "source": [
    "cat(\"Total Number of NIFTY50 Trading days in year 2021:\", nrow(NIFTY2021_VaR95), \"\\n\", sep=\" \")\n",
    "cat(\"Number of trading days on which the actual losses breached the 95% confidence bar:\", nrow(NIFTY2021_VaR95[(`alpha(5%)` > realized)]), \"\\n\", sep=\" \")\n",
    "cat(\"Accuracy of Model: \", (1-nrow(NIFTY2021_VaR95[(`alpha(5%)` > realized)])/nrow(NIFTY2021_VaR95))*100, \"%\", sep=\"\")\n",
    "\n",
    "#So, we can observe that out of 248 trading days from \"2021-01-01\" to \"2021-12-31\", there are only 13 trading days(5.24%) \n",
    "#at which observed losses have breached the losses as predicted by the GARCH model at 95% Confidence Level.\n",
    "#So, GARCH model is really a good estimator of VaR and ES which takes Volatility Clustering into account and provides \n",
    "#much accurate results in comparison to Normal Distributions.\n",
    "\n",
    "#Similar calculations can be performed by setting alpha = 0.1 or 0.01 i.e., calculating 0.1th or 0.01th quantile for \n",
    "#estimating VaR and ES at 90% or 99% confidence level respectively. "
   ]
  }
 ],
 "metadata": {
  "kernelspec": {
   "display_name": "R",
   "language": "R",
   "name": "ir"
  },
  "language_info": {
   "codemirror_mode": "r",
   "file_extension": ".r",
   "mimetype": "text/x-r-source",
   "name": "R",
   "pygments_lexer": "r",
   "version": "4.0.5"
  }
 },
 "nbformat": 4,
 "nbformat_minor": 5
}
